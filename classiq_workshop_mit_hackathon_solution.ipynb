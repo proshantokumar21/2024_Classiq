{
  "cells": [
    {
      "cell_type": "markdown",
      "source": [
        "$ \\newcommand{\\bra}[1]{\\langle #1|} $\n",
        "$ \\newcommand{\\ket}[1]{|#1\\rangle} $\n",
        "$ \\newcommand{\\braket}[2]{\\langle #1|#2\\rangle} $\n",
        "$ \\newcommand{\\dot}[2]{ #1 \\cdot #2} $\n",
        "$ \\newcommand{\\biginner}[2]{\\left\\langle #1,#2\\right\\rangle} $\n",
        "$ \\newcommand{\\mymatrix}[2]{\\left( \\begin{array}{#1} #2\\end{array} \\right)} $\n",
        "$ \\newcommand{\\myvector}[1]{\\mymatrix{c}{#1}} $\n",
        "$ \\newcommand{\\myrvector}[1]{\\mymatrix{r}{#1}} $\n",
        "$ \\newcommand{\\mypar}[1]{\\left( #1 \\right)} $\n",
        "$ \\newcommand{\\mybigpar}[1]{ \\Big( #1 \\Big)} $\n",
        "$ \\newcommand{\\sqrttwo}{\\frac{1}{\\sqrt{2}}} $\n",
        "$ \\newcommand{\\dsqrttwo}{\\dfrac{1}{\\sqrt{2}}} $\n",
        "$ \\newcommand{\\onehalf}{\\frac{1}{2}} $\n",
        "$ \\newcommand{\\donehalf}{\\dfrac{1}{2}} $\n",
        "$ \\newcommand{\\hadamard}{ \\mymatrix{rr}{ \\sqrttwo & \\sqrttwo \\\\ \\sqrttwo & -\\sqrttwo }} $\n",
        "$ \\newcommand{\\vzero}{\\myvector{1\\\\0}} $\n",
        "$ \\newcommand{\\vone}{\\myvector{0\\\\1}} $\n",
        "$ \\newcommand{\\stateplus}{\\myvector{ \\sqrttwo \\\\  \\sqrttwo } } $\n",
        "$ \\newcommand{\\stateminus}{ \\myrvector{ \\sqrttwo \\\\ -\\sqrttwo } } $\n",
        "$ \\newcommand{\\myarray}[2]{ \\begin{array}{#1}#2\\end{array}} $\n",
        "$ \\newcommand{\\X}{ \\mymatrix{cc}{0 & 1 \\\\ 1 & 0}  } $\n",
        "$ \\newcommand{\\Z}{ \\mymatrix{rr}{1 & 0 \\\\ 0 & -1}  } $\n",
        "$ \\newcommand{\\Htwo}{ \\mymatrix{rrrr}{ \\frac{1}{2} & \\frac{1}{2} & \\frac{1}{2} & \\frac{1}{2} \\\\ \\frac{1}{2} & -\\frac{1}{2} & \\frac{1}{2} & -\\frac{1}{2} \\\\ \\frac{1}{2} & \\frac{1}{2} & -\\frac{1}{2} & -\\frac{1}{2} \\\\ \\frac{1}{2} & -\\frac{1}{2} & -\\frac{1}{2} & \\frac{1}{2} } } $\n",
        "$ \\newcommand{\\CNOT}{ \\mymatrix{cccc}{1 & 0 & 0 & 0 \\\\ 0 & 1 & 0 & 0 \\\\ 0 & 0 & 0 & 1 \\\\ 0 & 0 & 1 & 0} } $\n",
        "$ \\newcommand{\\norm}[1]{ \\left\\lVert #1 \\right\\rVert } $\n",
        "$ \\newcommand{\\pstate}[1]{ \\lceil \\mspace{-1mu} #1 \\mspace{-1.5mu} \\rfloor } $"
      ],
      "metadata": {
        "id": "cp6TSqtsyEH4"
      }
    },
    {
      "cell_type": "markdown",
      "metadata": {
        "id": "jkw2FYhJx9mp"
      },
      "source": [
        "# Workshop Preperation for Classiq's Challenge - Quantum Arithmetics"
      ]
    },
    {
      "cell_type": "markdown",
      "metadata": {
        "id": "gV2Gm5Erx9ms"
      },
      "source": [
        "Welcome to the Classiq challenge of the 2024 MIT IQuHack hackathon!\n",
        "This Jupyter notebook is a tutorial workshop that should prepare you for the challenge itself.\n",
        "\n",
        "\n",
        "Additional resources you should use are\n",
        "- The IDE of the classiq platform at [platform.classiq.io](platform.classiq.io)\n",
        "- The [community Slack of Classiq](https://short.classiq.io/join-slack) - Classiq's team will answer any question you have over there, including implementation questions\n",
        "- [Classiq's documentation](https://docs.classiq.io/latest/user-guide/platform/) with the dedicated [Python SDK explanations](https://docs.classiq.io/latest/user-guide/platform/qmod/python/functions/)\n",
        "\n",
        "Good luck!"
      ]
    },
    {
      "cell_type": "markdown",
      "metadata": {
        "id": "AdmKRNiDx9mu"
      },
      "source": [
        "![Classiq](https://github.com/proshantokumar21/2024_Classiq/blob/main/MITClassiq.png?raw=1)"
      ]
    },
    {
      "cell_type": "markdown",
      "metadata": {
        "id": "3RCEq1Thx9mu"
      },
      "source": [
        "## Setting The Scene"
      ]
    },
    {
      "cell_type": "markdown",
      "metadata": {
        "id": "hVQfxwF8x9mv"
      },
      "source": [
        "Install the Classiq SDK package:"
      ]
    },
    {
      "cell_type": "code",
      "execution_count": null,
      "metadata": {
        "id": "zxsZni3nx9mv"
      },
      "outputs": [],
      "source": [
        "!pip install -U classiq"
      ]
    },
    {
      "cell_type": "markdown",
      "metadata": {
        "id": "YkAQUfhBx9mw"
      },
      "source": [
        "You need to authenticate your device in order to use Classiq's backend synthesis engine and IDE. Make sure to register to the platform at [platform.classiq.io](platform.classiq.io) before you run the next cell:"
      ]
    },
    {
      "cell_type": "code",
      "execution_count": null,
      "metadata": {
        "id": "ivHF7EXix9mw"
      },
      "outputs": [],
      "source": [
        "import classiq\n",
        "classiq.authenticate()"
      ]
    },
    {
      "cell_type": "code",
      "execution_count": null,
      "metadata": {
        "id": "aYdRjdXBx9mx"
      },
      "outputs": [],
      "source": [
        "from classiq import *"
      ]
    },
    {
      "cell_type": "markdown",
      "metadata": {
        "id": "OEY0yyHIx9my"
      },
      "source": [
        "## A Warm Up"
      ]
    },
    {
      "cell_type": "markdown",
      "metadata": {
        "id": "h9wWpwfJx9my"
      },
      "source": [
        "### First Example"
      ]
    },
    {
      "cell_type": "markdown",
      "metadata": {
        "id": "Ep58cr1Mx9my"
      },
      "source": [
        "Write a function that prepares the minus state $\\ket{-}=\\frac{1}{\\sqrt2}(\\ket{0}-\\ket{1})$, assuming it recives the qubit $\\ket{x}=\\ket{0}$ (hint:\n",
        "\n",
        "<details>\n",
        "<summary>\n",
        "HINT\n",
        "</summary>\n",
        "\n",
        "Use `H(x)`,`X(x)`\n",
        "</details>"
      ]
    },
    {
      "cell_type": "code",
      "execution_count": null,
      "metadata": {
        "id": "rEeguWE-x9mz"
      },
      "outputs": [],
      "source": [
        "@QFunc\n",
        "def prepare_minus_state(x:QBit):\n",
        "    X(x)\n",
        "    H(x)"
      ]
    },
    {
      "cell_type": "markdown",
      "metadata": {
        "id": "K48lcN24x9m0"
      },
      "source": [
        "Now we will test our code:"
      ]
    },
    {
      "cell_type": "code",
      "execution_count": null,
      "metadata": {
        "id": "JaosAhJtx9m0"
      },
      "outputs": [],
      "source": [
        "@QFunc\n",
        "def main(x: Output[QBit]):\n",
        "    allocate(1,x) # Initalize the qubit x\n",
        "    prepare_minus_state(x)"
      ]
    },
    {
      "cell_type": "code",
      "execution_count": null,
      "metadata": {
        "id": "G0iMjxD0x9m1"
      },
      "outputs": [],
      "source": [
        "quantum_model = create_model(main)\n",
        "quantum_program = synthesize(quantum_model)"
      ]
    },
    {
      "cell_type": "code",
      "execution_count": null,
      "metadata": {
        "id": "GJ_u1S-kx9m2",
        "outputId": "b52d9ed8-a2f2-4edb-947a-bc5c150612b0"
      },
      "outputs": [
        {
          "name": "stdout",
          "output_type": "stream",
          "text": [
            "Opening: https://platform.classiq.io/circuit/00a0d989-1d56-431a-9c21-f4e33273df89?version=0.36.1\n"
          ]
        }
      ],
      "source": [
        "show(quantum_program)"
      ]
    },
    {
      "cell_type": "markdown",
      "metadata": {
        "id": "bUjJf4Hjx9m3"
      },
      "source": [
        "Some basic explanations about the high-level functional design with Classiq:\n",
        "\n",
        "* There should always be a main (`def main(...)`) function - the model that captures your algortihm is described there\n",
        "\n",
        "* The model is always generated out of the main function\n",
        "\n",
        "* The model is sent to the synthesis engine (compiler) that return a quantum program which contains the quantum circuit\n"
      ]
    },
    {
      "cell_type": "markdown",
      "metadata": {
        "id": "WgcXmUqax9m3"
      },
      "source": [
        "Some basic guidelines about the modeling language (QMOD):\n",
        "\n",
        "1. Every quantum variable should be declared, either as a parameter of a funciton e.g. `def prepare_minus(x: QBit)` or within the function itself with `x = QBit('x')`\n",
        "\n",
        "2. Some quantum variables need to be initalized with the `allocate` function. This is required in 2 cases:\n",
        "* A variable is a parameter of a function with the declaration `Output` like `def main(x: Output[QInt])`\n",
        "* A variable that was declared within a function like `a = QInt('a')`\n",
        "\n",
        "3. For the `main` function, you will always use `Output` for all variables, as the function does not receive any input\n",
        "\n",
        "4. Every function you use with the QMOD language should have the decorator `@QFunc` before it"
      ]
    },
    {
      "cell_type": "markdown",
      "metadata": {
        "id": "2WwhEp98x9m4"
      },
      "source": [
        "Important tip!\n",
        "\n",
        "You can see all the declarations of the functions with what are their input arguments in the `functions.py` file within the classiq package (or by just right clicking a function and presing `Go To Defintion`)"
      ]
    },
    {
      "cell_type": "markdown",
      "metadata": {
        "id": "68Y7bgfwx9m4"
      },
      "source": [
        "### Uniform Superposition"
      ]
    },
    {
      "cell_type": "markdown",
      "metadata": {
        "id": "w2tykvElx9m4"
      },
      "source": [
        "Let's continue warming up with creating a function that receives a quantum register and creates a uniform superposistion for all qubits within this array. You should use the function `apply_to_all(gate_operand=, target=)`:"
      ]
    },
    {
      "cell_type": "code",
      "execution_count": null,
      "metadata": {
        "id": "_YYeqf4gx9m5"
      },
      "outputs": [],
      "source": [
        "@QFunc\n",
        "def create_initial_state(reg: QArray[QBit]):\n",
        "    apply_to_all(H,reg)"
      ]
    },
    {
      "cell_type": "markdown",
      "metadata": {
        "id": "d7Tsewgvx9m5"
      },
      "source": [
        "Test yout function by creating a new main function, synthesizing and viewing the circuit:"
      ]
    },
    {
      "cell_type": "code",
      "execution_count": null,
      "metadata": {
        "id": "pGgu7Z3Vx9m6"
      },
      "outputs": [],
      "source": [
        "@QFunc\n",
        "def main(reg: Output[QArray]): #TODO fill int the correct declaration here, what variables this model shoul output?\n",
        "    allocate(4,reg)\n",
        "    create_initial_state(reg)"
      ]
    },
    {
      "cell_type": "code",
      "execution_count": null,
      "metadata": {
        "id": "cl_h5Ylsx9m6",
        "outputId": "28b86666-c85a-453e-9cad-3ade7613d804"
      },
      "outputs": [
        {
          "name": "stdout",
          "output_type": "stream",
          "text": [
            "Opening: https://platform.classiq.io/circuit/35c8d674-bcf7-4c5c-9131-302b4783b125?version=0.36.1\n"
          ]
        }
      ],
      "source": [
        "qprog = synthesize(create_model(main))\n",
        "show(qprog)"
      ]
    },
    {
      "cell_type": "markdown",
      "metadata": {
        "id": "mqyvFPtHx9m7"
      },
      "source": [
        "## Arithmetic Operations with Classiq"
      ]
    },
    {
      "cell_type": "markdown",
      "metadata": {
        "id": "4ux7TRRkx9m7"
      },
      "source": [
        "One of the key advantages of Classiq is it's simplistic and powerful compiler for quantum arithmetics. Let's see an example:"
      ]
    },
    {
      "cell_type": "code",
      "execution_count": null,
      "metadata": {
        "id": "LZ8pGV_mx9m8"
      },
      "outputs": [],
      "source": [
        "num_qubits = 4\n",
        "fraction_digits = 0\n",
        "is_signed = True\n",
        "\n",
        "@QFunc\n",
        "def main(x: Output[QNum], y: Output[QNum]):\n",
        "    allocate_num(num_qubits=num_qubits, is_signed=is_signed, fraction_digits=fraction_digits, out=x)\n",
        "    hadamard_transform(x)\n",
        "    y|= x**2 + 1\n",
        "\n",
        "qmod = create_model(main)"
      ]
    },
    {
      "cell_type": "markdown",
      "metadata": {
        "id": "V-7aoCfjx9m8"
      },
      "source": [
        "The `allocate_num` function initalizes a quantum variable that represent numbers. By default it is initalized to the $\\ket{0}$ state. Then the `hadmard_transform` create a superposition of all posible states in the domain $[-2^3,2^3-1]$. Finally, the arithmetic operation creates the entangled superpostion of states:\n",
        "$\\begin{equation}\n",
        "\\sum_{x =-2^3}^{2^3-1}\\ket{x}\\ket{x^2+1}\n",
        "\\end{equation}$\n",
        "\n",
        "The `qmod` variable is a text file that captures the algortihm we have just created. Now, what we want is to synthesize (compile) in order to receive a concrete quantum program that contains the quantum circuit implementation."
      ]
    },
    {
      "cell_type": "code",
      "execution_count": null,
      "metadata": {
        "id": "JmMxviLqx9m8"
      },
      "outputs": [],
      "source": [
        "qprog = synthesize(qmod)"
      ]
    },
    {
      "cell_type": "markdown",
      "metadata": {
        "id": "xIJU2fiqx9m9"
      },
      "source": [
        "And in order to view it:"
      ]
    },
    {
      "cell_type": "code",
      "execution_count": null,
      "metadata": {
        "id": "dFIZKTDyx9m9",
        "outputId": "a9f5b45c-bf56-4280-ee01-628741756409"
      },
      "outputs": [
        {
          "name": "stdout",
          "output_type": "stream",
          "text": [
            "Opening: https://platform.classiq.io/circuit/da2dd71d-eb17-404c-b42c-977750673c74?version=0.36.1\n"
          ]
        }
      ],
      "source": [
        "show(qprog)"
      ]
    },
    {
      "cell_type": "markdown",
      "metadata": {
        "id": "zSNir3mtx9m-"
      },
      "source": [
        "## Advanced Arithmetics"
      ]
    },
    {
      "cell_type": "markdown",
      "metadata": {
        "id": "MtJhklA0x9m-"
      },
      "source": [
        "Now let's create a general linear function with Classiq: $y= ax+b$ where $a,b$ are classical integer parameters and $x,y$ is a quantum states representing integers:"
      ]
    },
    {
      "cell_type": "code",
      "execution_count": null,
      "metadata": {
        "id": "bDHb33bGx9m-"
      },
      "outputs": [],
      "source": [
        "@QFunc\n",
        "def linear_func(a:QParam[int],b: QParam[int], x:QNum, y: Output[QNum]):\n",
        "    y |= a*x+b"
      ]
    },
    {
      "cell_type": "code",
      "execution_count": null,
      "metadata": {
        "id": "zTvKWFaOx9m_"
      },
      "outputs": [],
      "source": [
        "@QFunc\n",
        "def main(x:Output[QNum], y: Output[QNum]):\n",
        "\n",
        "    a = 2\n",
        "    b = 1\n",
        "    allocate_num(num_qubits=4,is_signed=False,fraction_digits=0,out=x)\n",
        "    hadamard_transform(x)\n",
        "    linear_func(a,b,x,y)\n",
        "\n",
        "qmod = create_model(main)"
      ]
    },
    {
      "cell_type": "code",
      "execution_count": null,
      "metadata": {
        "id": "RptjAiLAx9m_"
      },
      "outputs": [],
      "source": [
        "qprog = synthesize(qmod)"
      ]
    },
    {
      "cell_type": "markdown",
      "metadata": {
        "id": "06xp__AAx9m_"
      },
      "source": [
        "Let's execute the circuit from directly from the SDK:"
      ]
    },
    {
      "cell_type": "code",
      "execution_count": null,
      "metadata": {
        "id": "4yxec4jKx9nA"
      },
      "outputs": [],
      "source": [
        "job = execute(qprog)"
      ]
    },
    {
      "cell_type": "markdown",
      "metadata": {
        "id": "UFBkhGCVx9nA"
      },
      "source": [
        "And we can view the results in the IDE:"
      ]
    },
    {
      "cell_type": "code",
      "execution_count": null,
      "metadata": {
        "id": "gbb7q4b8x9nA"
      },
      "outputs": [],
      "source": [
        "job.open_in_ide()"
      ]
    },
    {
      "cell_type": "markdown",
      "metadata": {
        "id": "yqdQVMdTx9nB"
      },
      "source": [
        "Or to directly analyze it within the SDK:"
      ]
    },
    {
      "cell_type": "code",
      "execution_count": null,
      "metadata": {
        "id": "XuBny2njx9nB",
        "outputId": "34dc5bc9-75f2-4928-cfc9-fa7897090330"
      },
      "outputs": [
        {
          "name": "stdout",
          "output_type": "stream",
          "text": [
            "{'x': 5.0, 'y': 11.0}\n",
            "{'x': 3.0, 'y': 7.0}\n",
            "{'x': 6.0, 'y': 13.0}\n",
            "{'x': 9.0, 'y': 19.0}\n",
            "{'x': 0.0, 'y': 1.0}\n",
            "{'x': 12.0, 'y': 25.0}\n",
            "{'x': 11.0, 'y': 23.0}\n",
            "{'x': 4.0, 'y': 9.0}\n",
            "{'x': 15.0, 'y': 31.0}\n",
            "{'x': 8.0, 'y': 17.0}\n",
            "{'x': 14.0, 'y': 29.0}\n",
            "{'x': 1.0, 'y': 3.0}\n",
            "{'x': 13.0, 'y': 27.0}\n",
            "{'x': 2.0, 'y': 5.0}\n",
            "{'x': 10.0, 'y': 21.0}\n",
            "{'x': 7.0, 'y': 15.0}\n"
          ]
        }
      ],
      "source": [
        "results = job.result()\n",
        "parsed_counts = results[0].value.parsed_counts\n",
        "for sampled_state in parsed_counts: print(sampled_state.state)"
      ]
    },
    {
      "cell_type": "markdown",
      "metadata": {
        "id": "VafSzN_Ex9nB"
      },
      "source": [
        "Now it's your turn! Implement the same linear function, but now $x$ is in the domain $[0,1)$ and is represented by 4 qubits. The parameters $a,b$ should be now `float` with the values of: $a=0.5, b=1.5$."
      ]
    },
    {
      "cell_type": "code",
      "execution_count": null,
      "metadata": {
        "id": "q19Itn0Ax9nB"
      },
      "outputs": [],
      "source": [
        "@QFunc\n",
        "def linear_func(a:QParam[float],b: QParam[float], x:QNum, y: Output[QNum]):\n",
        "    y |= a*x+b\n",
        "\n",
        "@QFunc\n",
        "def main(x:Output[QNum], y: Output[QNum]):\n",
        "\n",
        "    a = 0.5\n",
        "    b = 1.5\n",
        "    allocate_num(num_qubits=4,is_signed=False,fraction_digits=4,out=x)\n",
        "    hadamard_transform(x)\n",
        "    linear_func(a,b,x,y)\n",
        "\n",
        "qmod = create_model(main)"
      ]
    },
    {
      "cell_type": "code",
      "execution_count": null,
      "metadata": {
        "id": "9HJ0W5Nix9nC"
      },
      "outputs": [],
      "source": [
        "qprog = synthesize(qmod)"
      ]
    },
    {
      "cell_type": "markdown",
      "metadata": {
        "id": "MDXtgbfzx9nC"
      },
      "source": [
        "## Tutorial - Two controlled Linear operations"
      ]
    },
    {
      "cell_type": "markdown",
      "metadata": {
        "id": "4E-ttMXbx9nC"
      },
      "source": [
        "Let's say we want now to have two linear operations applied on the same quantum variable (register). But the arithmetic operation initalize a new quantum variable, so how can we do that? The answer is that we need to apply the operation to another variable and then XOR it to the variable we want.\n",
        "\n",
        "This can be useful if the linear operation we want to apply is controlled upon a control variable. Let's first define the functional buildng block:"
      ]
    },
    {
      "cell_type": "code",
      "execution_count": null,
      "metadata": {
        "id": "eVJH_Zlfx9nC"
      },
      "outputs": [],
      "source": [
        "@QFunc\n",
        "def inplace_linear_attempt(a:QParam[int],b: QParam[int], x:QNum, y: QNum):\n",
        "    tmp = QNum('tmp')\n",
        "    linear_func(a,b,x,tmp)\n",
        "    inplace_xor(tmp,y)"
      ]
    },
    {
      "cell_type": "markdown",
      "metadata": {
        "id": "lczGUIftx9nC"
      },
      "source": [
        "And checking our basic function implementation:"
      ]
    },
    {
      "cell_type": "code",
      "execution_count": null,
      "metadata": {
        "id": "7dVtMJfSx9nD",
        "outputId": "c1489c5d-3506-422d-e3fa-46473486211b"
      },
      "outputs": [
        {
          "name": "stdout",
          "output_type": "stream",
          "text": [
            "Opening: https://platform.classiq.io/circuit/01aff113-35aa-4c38-9a25-8817b4eed7ee?version=0.36.1\n"
          ]
        }
      ],
      "source": [
        "@QFunc\n",
        "def main(x: Output[QNum],y: Output[QNum]):\n",
        "    a = 1\n",
        "    b = 2\n",
        "\n",
        "    allocate_num(4,False,0,y)\n",
        "    allocate_num(4,False,0,x)\n",
        "    hadamard_transform(x)\n",
        "    inplace_linear_attempt(a,b,x,y)\n",
        "\n",
        "qmod = create_model(main)\n",
        "qprog = synthesize(qmod)\n",
        "show(qprog)"
      ]
    },
    {
      "cell_type": "markdown",
      "metadata": {
        "id": "jTh3fYe8x9nD"
      },
      "source": [
        "Ok, cool. So now we want to add a control qubit that controlled on the state $\\ket{0}$ implements the linear funciton $\\ket{x}\\rightarrow\\ket{x}\\ket{x+2}$ and controlled on the state $\\ket{1}$ implements the linear function $\\ket{x}\\rightarrow\\ket{x}\\ket{2x+1}$:"
      ]
    },
    {
      "cell_type": "code",
      "execution_count": null,
      "metadata": {
        "id": "G4U8Uvw_x9nD"
      },
      "outputs": [],
      "source": [
        "@QFunc\n",
        "def control_logic(a: QParam[list[int]], b: QParam[list[int]], controller:QNum, x: QNum, y: QNum):\n",
        "\n",
        "    repeat( count=a.len(),\n",
        "            iteration=lambda i: quantum_if(controller==i, lambda: inplace_linear_attempt(a[i],b[i],x,y)))\n"
      ]
    },
    {
      "cell_type": "code",
      "execution_count": null,
      "metadata": {
        "id": "Rzeeq4owx9nE"
      },
      "outputs": [],
      "source": [
        "@QFunc\n",
        "def main(controller: Output[QNum], x: Output[QNum],y: Output[QNum]):\n",
        "\n",
        "    # Linear polynom parameters\n",
        "    a = [1,2]\n",
        "    b = [2,1]\n",
        "\n",
        "    # Initalizing x to a superposition in the domain [0,2^4-1]\n",
        "    allocate_num(4,False,0,x)\n",
        "    hadamard_transform(x)\n",
        "\n",
        "    #Initalize y\n",
        "    allocate_num(4,False,0,y)\n",
        "\n",
        "    # Setting the controller in a superpostion\n",
        "    allocate_num(1,False,0,controller)\n",
        "    H(controller)\n",
        "\n",
        "    # Implementing the control logic\n",
        "    control_logic(a,b,controller,x,y)\n",
        "\n",
        "\n",
        "qmod = create_model(main)"
      ]
    },
    {
      "cell_type": "code",
      "execution_count": null,
      "metadata": {
        "id": "cx9I1vYNx9nE",
        "outputId": "4554050f-5721-4a6d-a0d3-52a94eed87a4"
      },
      "outputs": [
        {
          "name": "stdout",
          "output_type": "stream",
          "text": [
            "Opening: https://platform.classiq.io/circuit/beeb1275-6543-491f-af1a-abe7caf3b4f0?version=0.36.1\n"
          ]
        }
      ],
      "source": [
        "qprog = synthesize(qmod)\n",
        "show(qprog)"
      ]
    },
    {
      "cell_type": "markdown",
      "metadata": {
        "id": "MSMKSHsfx9nE"
      },
      "source": [
        "By executing we can actually see we get what we want:"
      ]
    },
    {
      "cell_type": "code",
      "execution_count": null,
      "metadata": {
        "id": "msAks-Qvx9nF",
        "outputId": "59d3cc4a-51c6-45aa-c2c0-8ca4cb2eea27"
      },
      "outputs": [
        {
          "name": "stdout",
          "output_type": "stream",
          "text": [
            "{'controller': 0.0, 'x': 3.0, 'y': 5.0}\n",
            "{'controller': 1.0, 'x': 5.0, 'y': 11.0}\n",
            "{'controller': 0.0, 'x': 2.0, 'y': 4.0}\n",
            "{'controller': 1.0, 'x': 8.0, 'y': 1.0}\n",
            "{'controller': 0.0, 'x': 7.0, 'y': 9.0}\n",
            "{'controller': 0.0, 'x': 9.0, 'y': 11.0}\n",
            "{'controller': 0.0, 'x': 13.0, 'y': 15.0}\n",
            "{'controller': 1.0, 'x': 1.0, 'y': 3.0}\n",
            "{'controller': 1.0, 'x': 14.0, 'y': 13.0}\n",
            "{'controller': 1.0, 'x': 0.0, 'y': 1.0}\n",
            "{'controller': 1.0, 'x': 2.0, 'y': 5.0}\n",
            "{'controller': 1.0, 'x': 9.0, 'y': 3.0}\n",
            "{'controller': 0.0, 'x': 14.0, 'y': 0.0}\n",
            "{'controller': 0.0, 'x': 5.0, 'y': 7.0}\n",
            "{'controller': 1.0, 'x': 3.0, 'y': 7.0}\n",
            "{'controller': 0.0, 'x': 10.0, 'y': 12.0}\n",
            "{'controller': 0.0, 'x': 6.0, 'y': 8.0}\n",
            "{'controller': 1.0, 'x': 10.0, 'y': 5.0}\n",
            "{'controller': 0.0, 'x': 1.0, 'y': 3.0}\n",
            "{'controller': 1.0, 'x': 7.0, 'y': 15.0}\n",
            "{'controller': 1.0, 'x': 12.0, 'y': 9.0}\n",
            "{'controller': 1.0, 'x': 4.0, 'y': 9.0}\n",
            "{'controller': 1.0, 'x': 13.0, 'y': 11.0}\n",
            "{'controller': 0.0, 'x': 8.0, 'y': 10.0}\n",
            "{'controller': 0.0, 'x': 4.0, 'y': 6.0}\n",
            "{'controller': 1.0, 'x': 11.0, 'y': 7.0}\n",
            "{'controller': 1.0, 'x': 15.0, 'y': 15.0}\n",
            "{'controller': 1.0, 'x': 6.0, 'y': 13.0}\n",
            "{'controller': 0.0, 'x': 15.0, 'y': 1.0}\n",
            "{'controller': 0.0, 'x': 11.0, 'y': 13.0}\n",
            "{'controller': 0.0, 'x': 0.0, 'y': 2.0}\n",
            "{'controller': 0.0, 'x': 12.0, 'y': 14.0}\n"
          ]
        }
      ],
      "source": [
        "def print_parsed_counts(job):\n",
        "    results = job.result()\n",
        "    parsed_counts = results[0].value.parsed_counts\n",
        "    for parsed_state in parsed_counts: print(parsed_state.state)\n",
        "\n",
        "job = execute(qprog)\n",
        "print_parsed_counts(job)"
      ]
    },
    {
      "cell_type": "markdown",
      "metadata": {
        "id": "ddXyn_oPx9nF"
      },
      "source": [
        "Of course there is the issue of rounding and overflow - when one tries to represent $2*15+1=31$ with $4$ binary digits that's not possible (because the domain $[0,31]$ of integers is represented by at least 5 bits). See our [documentation](https://docs.classiq.io/latest/user-guide/platform/qmod/python/quantum-expressions/#inplace-arithmetic-operators) for further explanations.\n",
        "\n",
        "Let's try to use Classiq and optimize the circuit for minimal circuit width:"
      ]
    },
    {
      "cell_type": "code",
      "execution_count": null,
      "metadata": {
        "id": "ToYNsyjSx9nF",
        "outputId": "5c25a40a-60de-4d9d-afa0-a349514f7e26"
      },
      "outputs": [
        {
          "name": "stdout",
          "output_type": "stream",
          "text": [
            "Synthesized circuit width: 20, depth: 688\n"
          ]
        }
      ],
      "source": [
        "def print_depth_width(quantum_program):\n",
        "    generated_circuit = GeneratedCircuit.parse_raw(quantum_program)\n",
        "    print(f\"Synthesized circuit width: {generated_circuit.data.width}, depth: {generated_circuit.transpiled_circuit.depth}\")\n",
        "\n",
        "qmod = set_constraints(qmod,Constraints(optimization_parameter='width'))\n",
        "qprog = synthesize(qmod)\n",
        "print_depth_width(qprog)"
      ]
    },
    {
      "cell_type": "markdown",
      "metadata": {
        "id": "zNswVu7kx9nF"
      },
      "source": [
        "And when optimizng for depth:"
      ]
    },
    {
      "cell_type": "code",
      "execution_count": null,
      "metadata": {
        "id": "PtZASUudx9nG",
        "outputId": "3f0a4814-ecbd-4bf1-c1f7-1bbf7ba0f2b8"
      },
      "outputs": [
        {
          "name": "stdout",
          "output_type": "stream",
          "text": [
            "Synthesized circuit width: 32, depth: 398\n"
          ]
        }
      ],
      "source": [
        "qmod = set_constraints(qmod,Constraints(optimization_parameter='depth'))\n",
        "qprog = synthesize(qmod)\n",
        "print_depth_width(qprog)"
      ]
    },
    {
      "cell_type": "markdown",
      "metadata": {
        "id": "gCl6gvl-x9nG"
      },
      "source": [
        "Firstly, we can see here a clear demonstration of the power of high-level functional design! The same algortihm with the same functionality was optimized once for depth and once for width and the result is 2 different circuits with different characteristics that implement the same functionality.\n",
        "\n",
        "Secondly, is this the best we can do? Obviously the Classiq synthesis engine is optimizing for us the algortihm quite good. But, can we change something with our functionality, with our algorithm to get more efficient circuits?\n",
        "\n",
        "If we go back to out `inplace_linear_attempt` function, we can see that we initalize a `tmp` variable that requires more qubits and is not used. For such scenarios we have the `within_apply`. This logic implemnts sort of $UVU^{\\dagger}$ and when temporary variables are outputs of $U$ and used only by $V$ they are uncomputed by $U^{\\dagger}$. Let's see for our example:"
      ]
    },
    {
      "cell_type": "code",
      "execution_count": null,
      "metadata": {
        "id": "8o8Lo-Xgx9nG"
      },
      "outputs": [],
      "source": [
        "@QFunc\n",
        "def inplace_linear_func(a:QParam[int],b: QParam[int], x:QNum, y: QNum):\n",
        "    tmp = QNum('tmp')\n",
        "    within_apply(compute= lambda: linear_func(a,b,x,tmp),\n",
        "                action= lambda: inplace_xor(tmp,y))"
      ]
    },
    {
      "cell_type": "markdown",
      "metadata": {
        "id": "jWaA4Za4x9nG"
      },
      "source": [
        "With the new `control_logic`:"
      ]
    },
    {
      "cell_type": "code",
      "execution_count": null,
      "metadata": {
        "id": "S5IkfT7Yx9nH"
      },
      "outputs": [],
      "source": [
        "@QFunc\n",
        "def control_logic_2(a: QParam[list[int]], b: QParam[list[int]], controller:QNum, x: QNum, y: QNum):\n",
        "\n",
        "    repeat( count=a.len(),\n",
        "            iteration=lambda i: quantum_if(controller==i, lambda: inplace_linear_func(a[i],b[i],x,y)))"
      ]
    },
    {
      "cell_type": "markdown",
      "metadata": {
        "id": "Lc4XHeTIx9nH"
      },
      "source": [
        "And when we put all together now:"
      ]
    },
    {
      "cell_type": "code",
      "execution_count": null,
      "metadata": {
        "id": "H2CpCUDlx9nH"
      },
      "outputs": [],
      "source": [
        "@QFunc\n",
        "def main(controller: Output[QNum], x: Output[QNum],y: Output[QNum]):\n",
        "\n",
        "    # Linear polynom parameters\n",
        "    a = [1,2]\n",
        "    b = [2,1]\n",
        "\n",
        "    # Initalizing x to a superposition in the domain [0,2^4-1]\n",
        "    allocate_num(4,False,0,x)\n",
        "    hadamard_transform(x)\n",
        "\n",
        "    #Initalize y\n",
        "    allocate_num(4,False,0,y)\n",
        "\n",
        "    # Setting the controller in a superpostion\n",
        "    allocate_num(1,False,0,controller)\n",
        "    H(controller)\n",
        "\n",
        "    # Implementing the control logic\n",
        "    control_logic_2(a,b,controller,x,y)\n",
        "\n",
        "\n",
        "qmod = create_model(main)"
      ]
    },
    {
      "cell_type": "code",
      "execution_count": null,
      "metadata": {
        "id": "dkSgiaPNx9nH"
      },
      "outputs": [],
      "source": [
        "qprog = synthesize(qmod)"
      ]
    },
    {
      "cell_type": "code",
      "execution_count": null,
      "metadata": {
        "id": "xz8Lz_KIx9nH",
        "outputId": "ad23c05e-f0b5-4980-ccde-f51485a59f4d"
      },
      "outputs": [
        {
          "name": "stdout",
          "output_type": "stream",
          "text": [
            "Opening: https://platform.classiq.io/circuit/c5d18fda-ab8b-42b8-8373-4a57c49283db?version=0.36.1\n"
          ]
        }
      ],
      "source": [
        "show(qprog)"
      ]
    },
    {
      "cell_type": "markdown",
      "metadata": {
        "id": "zMHXrGb6x9nI"
      },
      "source": [
        "And now when we optimize for width:"
      ]
    },
    {
      "cell_type": "code",
      "execution_count": null,
      "metadata": {
        "id": "_SbEDRafx9nI",
        "outputId": "fb5a7acc-97fb-4948-beee-66e2a221028e"
      },
      "outputs": [
        {
          "name": "stdout",
          "output_type": "stream",
          "text": [
            "Synthesized circuit width: 16, depth: 244\n"
          ]
        }
      ],
      "source": [
        "qmod = set_constraints(qmod,Constraints(optimization_parameter='width'))\n",
        "qprog = synthesize(qmod)\n",
        "print_depth_width(qprog)"
      ]
    },
    {
      "cell_type": "markdown",
      "metadata": {
        "id": "3mngy_vCx9nI"
      },
      "source": [
        "And for depth:"
      ]
    },
    {
      "cell_type": "code",
      "execution_count": null,
      "metadata": {
        "id": "lpsqwJpIx9nI",
        "outputId": "e5032918-c1ba-4432-ce1c-25ece4b6517b"
      },
      "outputs": [
        {
          "name": "stdout",
          "output_type": "stream",
          "text": [
            "Synthesized circuit width: 45, depth: 203\n"
          ]
        }
      ],
      "source": [
        "qmod = set_constraints(qmod,Constraints(optimization_parameter='depth'))\n",
        "qprog = synthesize(qmod)\n",
        "print_depth_width(qprog)"
      ]
    },
    {
      "cell_type": "markdown",
      "metadata": {
        "id": "HU5dRuyWx9nI"
      },
      "source": [
        "So using the `within_apply` logic enabled us to reduce the optimal circuit implementation in terms of width from $20$ to $16$ and the optimal circuit depth from $398$ to $203$! I think both can be useful for you for the hackahton :)"
      ]
    },
    {
      "cell_type": "markdown",
      "metadata": {
        "id": "ShpltLr0x9nJ"
      },
      "source": [
        "## Cheat Sheet"
      ]
    },
    {
      "cell_type": "markdown",
      "metadata": {
        "id": "Z-aq9a71x9nJ"
      },
      "source": [
        "### Initalizations"
      ]
    },
    {
      "cell_type": "code",
      "execution_count": null,
      "metadata": {
        "id": "JRsjuqUgx9nJ"
      },
      "outputs": [],
      "source": [
        "allocate(\n",
        "    num_qubits: QParam[int],\n",
        "    out: Output[QArray[QBit, Literal[\"num_qubits\"]]])\n",
        "    '''\n",
        "    x = QArray('x')\n",
        "    allocate(4,x)\n",
        "    '''\n",
        "\n",
        "allocate_num(\n",
        "    num_qubits: QParam[int],\n",
        "    is_signed: QParam[bool],\n",
        "    fraction_digits: QParam[int],\n",
        "    out: Output[QNum])\n",
        "'''\n",
        "x = QNum('x')\n",
        "allocate_num(4,False,4,x)\n",
        "'''"
      ]
    },
    {
      "cell_type": "markdown",
      "metadata": {
        "id": "J6EbBV7-x9nJ"
      },
      "source": [
        "### Operations"
      ]
    },
    {
      "cell_type": "code",
      "execution_count": null,
      "metadata": {
        "id": "h8wo0RDkx9nJ"
      },
      "outputs": [],
      "source": [
        "repeat(\n",
        "    count: QParam[int],\n",
        "    iteration: QCallable[QParam[int]],\n",
        ")\n",
        "'''\n",
        "x = QArray\n",
        "allocate(4,x)\n",
        "repeat(x.len(),lambda index: H(x))\n",
        "'''\n",
        "\n",
        "control(\n",
        "    operand: QCallable,\n",
        "    ctrl: QArray[QBit],\n",
        ")\n",
        "'''\n",
        "x = QArray('x')\n",
        "y = QArray('y')\n",
        "x = allocate(4,x)\n",
        "y = allocate(4,y)\n",
        "repeat(x.len(),lambda i: control(lambda: X(y[i]),x[i]))\n",
        "'''"
      ]
    }
  ],
  "metadata": {
    "kernelspec": {
      "display_name": "Python 3.11.7 ('classiq')",
      "language": "python",
      "name": "python3"
    },
    "language_info": {
      "codemirror_mode": {
        "name": "ipython",
        "version": 3
      },
      "file_extension": ".py",
      "mimetype": "text/x-python",
      "name": "python",
      "nbconvert_exporter": "python",
      "pygments_lexer": "ipython3",
      "version": "3.11.7"
    },
    "orig_nbformat": 4,
    "vscode": {
      "interpreter": {
        "hash": "529b62266d4f537a408698cf820854c65fe877011c7661f0f70aa11c4383fddc"
      }
    },
    "colab": {
      "provenance": []
    }
  },
  "nbformat": 4,
  "nbformat_minor": 0
}